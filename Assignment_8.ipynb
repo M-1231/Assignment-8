{
  "nbformat": 4,
  "nbformat_minor": 0,
  "metadata": {
    "colab": {
      "provenance": []
    },
    "kernelspec": {
      "name": "python3",
      "display_name": "Python 3"
    },
    "language_info": {
      "name": "python"
    }
  },
  "cells": [
    {
      "cell_type": "code",
      "execution_count": null,
      "metadata": {
        "id": "YAB0FWT4EKfA"
      },
      "outputs": [],
      "source": [
        "# Q.1 Errors detected during execution are called exceptions and are not unconditionally fatal. Exceptions are raised when the program encounters an error during its execution. They disrupt the normal flow of program and halt the execution of the code following error. Error in Python can be of two types i.e. Syntax errors and Exceptions.\n",
        "#  Syntax error is caused by the wrong syntax in the code. It leads to the termination of the program while Exceptions are raised when the program is syntactically correct, but the code results in an error. This error does not stop the execution of the program, however, it changes the normal flow of the program.\n"
      ]
    },
    {
      "cell_type": "code",
      "source": [
        "# Q.2 When an exception is not handled, it stops the execution of code following error."
      ],
      "metadata": {
        "id": "KYu7uk44GZKE"
      },
      "execution_count": null,
      "outputs": []
    },
    {
      "cell_type": "code",
      "source": [
        "a=int(input())\n",
        "b=int(input())\n",
        "c=a+b\n",
        "print(c)\n",
        "print(\"this is the addition of two numbers\")#this code did not run as error occured"
      ],
      "metadata": {
        "colab": {
          "base_uri": "https://localhost:8080/",
          "height": 269
        },
        "id": "wLHY1afQwKY7",
        "outputId": "35e2d7c3-a84e-44b2-c954-9ec4e828f4c0"
      },
      "execution_count": null,
      "outputs": [
        {
          "name": "stdout",
          "output_type": "stream",
          "text": [
            "12\n",
            "mahi\n"
          ]
        },
        {
          "output_type": "error",
          "ename": "ValueError",
          "evalue": "ignored",
          "traceback": [
            "\u001b[0;31m---------------------------------------------------------------------------\u001b[0m",
            "\u001b[0;31mValueError\u001b[0m                                Traceback (most recent call last)",
            "\u001b[0;32m<ipython-input-2-9cf21eba8d3e>\u001b[0m in \u001b[0;36m<cell line: 2>\u001b[0;34m()\u001b[0m\n\u001b[1;32m      1\u001b[0m \u001b[0ma\u001b[0m\u001b[0;34m=\u001b[0m\u001b[0mint\u001b[0m\u001b[0;34m(\u001b[0m\u001b[0minput\u001b[0m\u001b[0;34m(\u001b[0m\u001b[0;34m)\u001b[0m\u001b[0;34m)\u001b[0m\u001b[0;34m\u001b[0m\u001b[0;34m\u001b[0m\u001b[0m\n\u001b[0;32m----> 2\u001b[0;31m \u001b[0mb\u001b[0m\u001b[0;34m=\u001b[0m\u001b[0mint\u001b[0m\u001b[0;34m(\u001b[0m\u001b[0minput\u001b[0m\u001b[0;34m(\u001b[0m\u001b[0;34m)\u001b[0m\u001b[0;34m)\u001b[0m\u001b[0;34m\u001b[0m\u001b[0;34m\u001b[0m\u001b[0m\n\u001b[0m\u001b[1;32m      3\u001b[0m \u001b[0mc\u001b[0m\u001b[0;34m=\u001b[0m\u001b[0ma\u001b[0m\u001b[0;34m+\u001b[0m\u001b[0mb\u001b[0m\u001b[0;34m\u001b[0m\u001b[0;34m\u001b[0m\u001b[0m\n\u001b[1;32m      4\u001b[0m \u001b[0mprint\u001b[0m\u001b[0;34m(\u001b[0m\u001b[0mc\u001b[0m\u001b[0;34m)\u001b[0m\u001b[0;34m\u001b[0m\u001b[0;34m\u001b[0m\u001b[0m\n\u001b[1;32m      5\u001b[0m \u001b[0mprint\u001b[0m\u001b[0;34m(\u001b[0m\u001b[0;34m\"this is the addition of two numbers\"\u001b[0m\u001b[0;34m)\u001b[0m\u001b[0;34m\u001b[0m\u001b[0;34m\u001b[0m\u001b[0m\n",
            "\u001b[0;31mValueError\u001b[0m: invalid literal for int() with base 10: 'mahi'"
          ]
        }
      ]
    },
    {
      "cell_type": "code",
      "source": [
        "#Q.3  The try and except block in Python is used to catch and handle exceptions. Python executes code following the try statement as a normal part of the program.\n",
        "#Using above example to catch and hndle error through try except block."
      ],
      "metadata": {
        "id": "VW8JKSmlzbv0"
      },
      "execution_count": null,
      "outputs": []
    },
    {
      "cell_type": "code",
      "source": [
        "try:\n",
        "    a=int(input())\n",
        "    b=int(input())\n",
        "    c=a+b\n",
        "    print(c)\n",
        "except ValueError:\n",
        "    print(\"this is the addition of two numbers\")#using exception handling it does not disturb the execution of code other than the error.\n"
      ],
      "metadata": {
        "colab": {
          "base_uri": "https://localhost:8080/"
        },
        "id": "SiVbEbkKwlvw",
        "outputId": "a9b8d502-8dd3-472a-94ae-797994cb55ad"
      },
      "execution_count": 20,
      "outputs": [
        {
          "output_type": "stream",
          "name": "stdout",
          "text": [
            "1\n",
            "M\n",
            "this is the addition of two numbers\n"
          ]
        }
      ]
    },
    {
      "cell_type": "code",
      "source": [
        "#Q.4 a. Try and else"
      ],
      "metadata": {
        "id": "p5eqZIHNyoRH"
      },
      "execution_count": null,
      "outputs": []
    },
    {
      "cell_type": "code",
      "source": [
        "try:\n",
        "    num1=int(input())\n",
        "    num2=int(input())\n",
        "    result=num1/num2\n",
        "except ZeroDivisionError:\n",
        "        print(\"Division by zero is not allowed\")\n",
        "else:\n",
        "        print(\"The result is\", result)# the else block executes successfully if there is no exception.\n",
        "\n"
      ],
      "metadata": {
        "colab": {
          "base_uri": "https://localhost:8080/"
        },
        "id": "VxxnVktFzFSz",
        "outputId": "4c56d5b6-0221-431b-c8bf-774977dc930b"
      },
      "execution_count": null,
      "outputs": [
        {
          "output_type": "stream",
          "name": "stdout",
          "text": [
            "85\n",
            "5\n",
            "The result is 17.0\n"
          ]
        }
      ]
    },
    {
      "cell_type": "code",
      "source": [
        "# b. Finally"
      ],
      "metadata": {
        "id": "qsNfDPhS13xG"
      },
      "execution_count": null,
      "outputs": []
    },
    {
      "cell_type": "code",
      "source": [
        "def divide(x,y):\n",
        "  try:\n",
        "      result=x//y\n",
        "  except ZeroDivisionError:\n",
        "      print(\"cannot divide by zero\")\n",
        "  finally:\n",
        "      print(\"This is always executed\")"
      ],
      "metadata": {
        "id": "QT_3IZty7V_9"
      },
      "execution_count": null,
      "outputs": []
    },
    {
      "cell_type": "code",
      "source": [
        "divide(5,0)"
      ],
      "metadata": {
        "colab": {
          "base_uri": "https://localhost:8080/"
        },
        "id": "RYTOZpHC7tL6",
        "outputId": "ec921aed-c98b-428e-8d62-e5382dee43fb"
      },
      "execution_count": null,
      "outputs": [
        {
          "output_type": "stream",
          "name": "stdout",
          "text": [
            "cannot divide by zero\n",
            "This is always executed\n"
          ]
        }
      ]
    },
    {
      "cell_type": "code",
      "source": [
        "# c. raise"
      ],
      "metadata": {
        "id": "LKy2TmSd7yU6"
      },
      "execution_count": null,
      "outputs": []
    },
    {
      "cell_type": "code",
      "source": [
        "try:\n",
        "      age=int(input())\n",
        "      if age<0:\n",
        "         raise Exception(\"age cannot be negative\")\n",
        "      else:\n",
        "         print(\"age is\",age)\n",
        "except Exception as e:\n",
        "         print(e)"
      ],
      "metadata": {
        "id": "I2zCCSEa9SdR",
        "colab": {
          "base_uri": "https://localhost:8080/"
        },
        "outputId": "6081ccdb-aec1-4a74-f293-54a3b657220d"
      },
      "execution_count": 27,
      "outputs": [
        {
          "output_type": "stream",
          "name": "stdout",
          "text": [
            "-65\n",
            "age cannot be negative\n"
          ]
        }
      ]
    },
    {
      "cell_type": "code",
      "source": [
        "#Q.5 Custom exceptions in Python are user-defined exceptions that serve a specific purpose. They are derived from the built-in Exception class or one of its subclasses. We need them to handle situations that are not covered by the standard exceptions, or to provide more meaningful information about the error."
      ],
      "metadata": {
        "id": "brLVR5Lq75XK"
      },
      "execution_count": null,
      "outputs": []
    },
    {
      "cell_type": "code",
      "source": [
        "class invalid_voting_age(Exception):\n",
        "   pass\n",
        "\n",
        "number =18\n",
        "try:\n",
        "    num=int(input())\n",
        "    if num<number:\n",
        "      raise invalid_voting_age\n",
        "    else:\n",
        "      print(\"Eligible to vote\")\n",
        "except invalid_voting_age:\n",
        "      print(\"Invalid age to vote\")\n",
        "\n"
      ],
      "metadata": {
        "colab": {
          "base_uri": "https://localhost:8080/"
        },
        "id": "rou9lVwyRgOq",
        "outputId": "75e4dfd8-b1bd-4d96-c488-94d7519821fa"
      },
      "execution_count": 32,
      "outputs": [
        {
          "output_type": "stream",
          "name": "stdout",
          "text": [
            "7\n",
            "Invalid age to vote\n"
          ]
        }
      ]
    },
    {
      "cell_type": "code",
      "source": [
        "\n",
        "# Q.6\n",
        "class Neg_Number(Exception):# custom exception class\n",
        "  pass\n",
        "\n",
        "try:\n",
        "    x=float(input())\n",
        "    y=square_root(x)\n",
        "    def square_root(x):\n",
        "      if x<0:\n",
        "        raise Neg_Number(x)\n",
        "      else:\n",
        "          return x**0.5\n",
        "    print(f\"The square root of {x} is\" , y)\n",
        "except Neg_Number as e:\n",
        "    print(e , \"is a negative number\")\n",
        "\n",
        "\n"
      ],
      "metadata": {
        "colab": {
          "base_uri": "https://localhost:8080/"
        },
        "id": "D8FDyUL-XRYj",
        "outputId": "88850430-6d39-4455-d132-c3ff5fae2bdf"
      },
      "execution_count": 28,
      "outputs": [
        {
          "output_type": "stream",
          "name": "stdout",
          "text": [
            "45\n",
            "The square root of 45.0 is 6.708203932499369\n"
          ]
        }
      ]
    },
    {
      "cell_type": "code",
      "source": [],
      "metadata": {
        "id": "TCVzv35Fuu77"
      },
      "execution_count": null,
      "outputs": []
    }
  ]
}